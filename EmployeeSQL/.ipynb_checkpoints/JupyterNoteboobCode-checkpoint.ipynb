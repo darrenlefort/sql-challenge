{
 "cells": [
  {
   "cell_type": "code",
   "execution_count": 1,
   "metadata": {},
   "outputs": [],
   "source": [
    "# Import Dependencies\n",
    "\n",
    "#Import Pandas and Matplotlib\n",
    "import pandas as pd\n",
    "import matplotlib.pyplot as plt"
   ]
  },
  {
   "cell_type": "code",
   "execution_count": 2,
   "metadata": {},
   "outputs": [],
   "source": [
    "# Import SQLAlchemy Automap, ORM, and other dependencies here\n",
    "import sqlalchemy\n",
    "from sqlalchemy.ext.automap import automap_base\n",
    "from sqlalchemy.orm import Session\n",
    "from sqlalchemy import create_engine, inspect\n"
   ]
  },
  {
   "cell_type": "code",
   "execution_count": 3,
   "metadata": {},
   "outputs": [
    {
     "ename": "ModuleNotFoundError",
     "evalue": "No module named 'config'",
     "output_type": "error",
     "traceback": [
      "\u001b[1;31m---------------------------------------------------------------------------\u001b[0m",
      "\u001b[1;31mModuleNotFoundError\u001b[0m                       Traceback (most recent call last)",
      "\u001b[1;32m<ipython-input-3-43fab65183d1>\u001b[0m in \u001b[0;36m<module>\u001b[1;34m\u001b[0m\n\u001b[0;32m      1\u001b[0m \u001b[1;31m# Configure Database from PostgreSQL\u001b[0m\u001b[1;33m\u001b[0m\u001b[1;33m\u001b[0m\u001b[1;33m\u001b[0m\u001b[0m\n\u001b[1;32m----> 2\u001b[1;33m \u001b[1;32mfrom\u001b[0m \u001b[0mconfig\u001b[0m \u001b[1;32mimport\u001b[0m \u001b[0muri\u001b[0m\u001b[1;33m\u001b[0m\u001b[1;33m\u001b[0m\u001b[0m\n\u001b[0m",
      "\u001b[1;31mModuleNotFoundError\u001b[0m: No module named 'config'"
     ]
    }
   ],
   "source": [
    "# Configure Database from PostgreSQL\n",
    "from config import uri"
   ]
  },
  {
   "cell_type": "code",
   "execution_count": null,
   "metadata": {},
   "outputs": [],
   "source": [
    "# Create Engine\n",
    "engine = create_engine(uri)"
   ]
  },
  {
   "cell_type": "code",
   "execution_count": null,
   "metadata": {},
   "outputs": [],
   "source": [
    "# Use the Inspector to explore the database and print the table names\n",
    "inspector = inspect(engine)\n",
    "inspector.get_table_names()"
   ]
  },
  {
   "cell_type": "code",
   "execution_count": null,
   "metadata": {},
   "outputs": [],
   "source": [
    "# Reflect Database into ORM class\n",
    "Base = automap_base()\n",
    "Base.prepare(engine, reflect = True)"
   ]
  },
  {
   "cell_type": "code",
   "execution_count": null,
   "metadata": {},
   "outputs": [],
   "source": [
    "# Print all of the classes mapped to the Base\n",
    "Base.classes.keys()"
   ]
  },
  {
   "cell_type": "code",
   "execution_count": null,
   "metadata": {},
   "outputs": [],
   "source": [
    "# Assign the \"Departments\" class to a variable called Departments\n",
    "Departments = Base.classes.Departments\n",
    "\n",
    "# Assign the \"Employees\" class to a variable called Employees\n",
    "Employees = Base.classes.Employees\n",
    "\n",
    "# Assign the \"Salaries\" class to a variable called Salaries\n",
    "Salaries = Base.classes.Salaries\n",
    "\n",
    "# Assign the \"Titles\" class to a variable calledTitlesEmployees\n",
    "Titles = Base.classes.Titles"
   ]
  },
  {
   "cell_type": "code",
   "execution_count": null,
   "metadata": {},
   "outputs": [],
   "source": [
    "# Start a session to query the database\n",
    "session = Session(bind=engine)"
   ]
  },
  {
   "cell_type": "code",
   "execution_count": null,
   "metadata": {},
   "outputs": [],
   "source": [
    "# Query the EmployeeSQL database for Employee Name. Save as a dataframe.\n",
    "query = session.query(Employees)\n",
    "employee_df = pd.read_sql_query(query.statement, session.get_bind())\n",
    "employee_df.head()"
   ]
  },
  {
   "cell_type": "code",
   "execution_count": null,
   "metadata": {},
   "outputs": [],
   "source": [
    "# Query the EmployeeSQL database for Titles. Save as a dataframe.\n",
    "query_title = session.query(Titles)\n",
    "titles_df = pd.read_sql_query(query_title.statement, session.get_bind())\n",
    "titles_df.head()"
   ]
  },
  {
   "cell_type": "code",
   "execution_count": null,
   "metadata": {},
   "outputs": [],
   "source": [
    "# Query the EmployeeSQL database for Salaries. Save as a dataframe.\n",
    "query_salary = session.query(Salaries)\n",
    "salaries_df = pd.read_sql_query(query_salary.statement, session.get_bind())\n",
    "salaries_df.head()"
   ]
  },
  {
   "cell_type": "code",
   "execution_count": null,
   "metadata": {},
   "outputs": [],
   "source": [
    "# Join queried databases\n",
    "emp_title_df = pd.merge(employee_df, titles_df, on=\"emp_no\", how=\"outer\")\n",
    "emp_sal_title_df = pd.merge(emp_title_df, salaries_df, on=\"emp_no\", how=\"outer\")\n",
    "\n",
    "# Rename columns\n",
    "emp_sal_title_df = emp_sal_title_df.rename(columns={\n",
    "                                                    \"emp_no\":\"Employee No.\",\n",
    "                                                    \"birth_date\":\"Birth Date\",\n",
    "                                                    \"first_name\":\"First Name\",\n",
    "                                                    \"last_name\":\"Last Name\",\n",
    "                                                    \"gender\":\"Gender\",\n",
    "                                                    \"hire_date\":\"Hire Date\",\n",
    "                                                    \"title\":\"Title\", \n",
    "                                                    \"from_date_x\":\"Title Start Date\",\n",
    "                                                    \"to_date_x\":\"Title End Date\",\n",
    "                                                    \"salary\":\"Salary\",\n",
    "                                                    \"from_date_y\":\"Salary Start Date\",\n",
    "                                                    \"to_date_y\":\"Salary End Date\"})\n",
    "\n",
    "# Drop unnecessary IDs\n",
    "emp_sal_title_df = emp_sal_title_df.drop(labels=[\"id_x\", \"id_y\"], axis=1)\n",
    "\n",
    "emp_sal_title_df.head()"
   ]
  },
  {
   "cell_type": "code",
   "execution_count": null,
   "metadata": {},
   "outputs": [],
   "source": []
  },
  {
   "cell_type": "code",
   "execution_count": null,
   "metadata": {},
   "outputs": [],
   "source": []
  },
  {
   "cell_type": "code",
   "execution_count": null,
   "metadata": {},
   "outputs": [],
   "source": []
  },
  {
   "cell_type": "code",
   "execution_count": null,
   "metadata": {},
   "outputs": [],
   "source": []
  },
  {
   "cell_type": "code",
   "execution_count": null,
   "metadata": {},
   "outputs": [],
   "source": []
  }
 ],
 "metadata": {
  "kernelspec": {
   "display_name": "Python 3.6.10 64-bit ('PythonData': conda)",
   "language": "python",
   "name": "python361064bitpythondataconda6906947807ed40f193f67cf2b39c0194"
  },
  "language_info": {
   "codemirror_mode": {
    "name": "ipython",
    "version": 3
   },
   "file_extension": ".py",
   "mimetype": "text/x-python",
   "name": "python",
   "nbconvert_exporter": "python",
   "pygments_lexer": "ipython3",
   "version": "3.6.10"
  }
 },
 "nbformat": 4,
 "nbformat_minor": 4
}
