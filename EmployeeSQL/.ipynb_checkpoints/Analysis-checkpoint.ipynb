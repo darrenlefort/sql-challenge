{
 "cells": [
  {
   "cell_type": "code",
   "execution_count": null,
   "metadata": {},
   "outputs": [],
   "source": [
    "# Import Dependencies\n",
    "\n",
    "#Import Pandas and Matplotlib\n",
    "import pandas as pd\n",
    "import matplotlib.pyplot as plt"
   ]
  },
  {
   "cell_type": "code",
   "execution_count": null,
   "metadata": {},
   "outputs": [],
   "source": [
    "# Import SQLAlchemy Automap, ORM, and other dependencies here\n",
    "import sqlalchemy\n",
    "from sqlalchemy.ext.automap import automap_base\n",
    "from sqlalchemy.orm import Session\n",
    "from sqlalchemy import create_engine, inspect\n"
   ]
  },
  {
   "cell_type": "code",
   "execution_count": null,
   "metadata": {},
   "outputs": [],
   "source": [
    "# Configure Database from PostgreSQL\n",
    "from config import uri"
   ]
  },
  {
   "cell_type": "code",
   "execution_count": null,
   "metadata": {},
   "outputs": [],
   "source": [
    "# Create Engine\n",
    "engine = create_engine(uri)"
   ]
  },
  {
   "cell_type": "code",
   "execution_count": null,
   "metadata": {},
   "outputs": [],
   "source": [
    "# Use the Inspector to explore the database and print the table names\n",
    "inspector = inspect(engine)\n",
    "inspector.get_table_names()"
   ]
  },
  {
   "cell_type": "code",
   "execution_count": null,
   "metadata": {},
   "outputs": [],
   "source": [
    "# Reflect Database into ORM class\n",
    "Base = automap_base()\n",
    "Base.prepare(engine, reflect = True)"
   ]
  },
  {
   "cell_type": "code",
   "execution_count": null,
   "metadata": {},
   "outputs": [],
   "source": [
    "# Print all of the classes mapped to the Base\n",
    "Base.classes.keys()"
   ]
  },
  {
   "cell_type": "code",
   "execution_count": null,
   "metadata": {},
   "outputs": [],
   "source": [
    "# Assign the \"Departments\" class to a variable called Departments\n",
    "Departments = Base.classes.Departments\n",
    "\n",
    "# Assign the \"Employees\" class to a variable called Employees\n",
    "Employees = Base.classes.Employees\n",
    "\n",
    "# Assign the \"Salaries\" class to a variable called Salaries\n",
    "Salaries = Base.classes.Salaries\n",
    "\n",
    "# Assign the \"Titles\" class to a variable calledTitlesEmployees\n",
    "Titles = Base.classes.Titles"
   ]
  },
  {
   "cell_type": "code",
   "execution_count": null,
   "metadata": {},
   "outputs": [],
   "source": [
    "# Start a session to query the database\n",
    "session = Session(bind=engine)"
   ]
  },
  {
   "cell_type": "code",
   "execution_count": null,
   "metadata": {},
   "outputs": [],
   "source": [
    "# Query the EmployeeSQL database for Employee Name. Save as a dataframe.\n",
    "query = session.query(Employees)\n",
    "employee_df = pd.read_sql_query(query.statement, session.get_bind())\n",
    "employee_df.head()"
   ]
  },
  {
   "cell_type": "code",
   "execution_count": null,
   "metadata": {},
   "outputs": [],
   "source": [
    "# Query the EmployeeSQL database for Titles. Save as a dataframe.\n",
    "query_title = session.query(Titles)\n",
    "titles_df = pd.read_sql_query(query_title.statement, session.get_bind())\n",
    "titles_df.head()"
   ]
  },
  {
   "cell_type": "code",
   "execution_count": null,
   "metadata": {},
   "outputs": [],
   "source": [
    "# Query the EmployeeSQL database for Salaries. Save as a dataframe.\n",
    "query_salary = session.query(Salaries)\n",
    "salaries_df = pd.read_sql_query(query_salary.statement, session.get_bind())\n",
    "salaries_df.head()"
   ]
  },
  {
   "cell_type": "code",
   "execution_count": null,
   "metadata": {},
   "outputs": [],
   "source": [
    "# Join queried databases\n",
    "emp_title_df = pd.merge(employee_df, titles_df, on=\"emp_no\", how=\"outer\")\n",
    "emp_sal_title_df = pd.merge(emp_title_df, salaries_df, on=\"emp_no\", how=\"outer\")\n",
    "\n",
    "# Rename columns\n",
    "emp_sal_title_df = emp_sal_title_df.rename(columns={\n",
    "                                                    \"emp_no\":\"Employee No.\",\n",
    "                                                    \"birth_date\":\"Birth Date\",\n",
    "                                                    \"first_name\":\"First Name\",\n",
    "                                                    \"last_name\":\"Last Name\",\n",
    "                                                    \"gender\":\"Gender\",\n",
    "                                                    \"hire_date\":\"Hire Date\",\n",
    "                                                    \"title\":\"Title\", \n",
    "                                                    \"from_date_x\":\"Title Start Date\",\n",
    "                                                    \"to_date_x\":\"Title End Date\",\n",
    "                                                    \"salary\":\"Salary\",\n",
    "                                                    \"from_date_y\":\"Salary Start Date\",\n",
    "                                                    \"to_date_y\":\"Salary End Date\"})\n",
    "\n",
    "# Drop unnecessary IDs\n",
    "emp_sal_title_df = emp_sal_title_df.drop(labels=[\"id_x\", \"id_y\"], axis=1)\n",
    "\n",
    "emp_sal_title_df.head()"
   ]
  },
  {
   "cell_type": "code",
   "execution_count": null,
   "metadata": {},
   "outputs": [],
   "source": [
    "# Test 1 last name\n",
    "koblick = emp_sal_title_df.loc[emp_sal_title_df[\"Last Name\"]==\"Koblick\"]\n",
    "koblick.head()"
   ]
  },
  {
   "cell_type": "code",
   "execution_count": null,
   "metadata": {},
   "outputs": [],
   "source": [
    "# Group by title. Find mean salary by title.\n",
    "title_salary = emp_sal_title_df.groupby(\"Title\").mean()\n",
    "title_salary"
   ]
  },
  {
   "cell_type": "code",
   "execution_count": null,
   "metadata": {},
   "outputs": [],
   "source": [
    "# Set title\n",
    "title = \"Average Salary by Job Title\"\n",
    "\n",
    "# Create chart\n",
    "salary_chart = title_salary[\"Salary\"].plot(kind=\"bar\", title=title, ylim=[40000, 60000])\n",
    "\n",
    "# Set labels\n",
    "salary_chart.set_xlabel(\"Job Title\")\n",
    "salary_chart.set_ylabel(\"Salary ($)\")\n",
    "\n",
    "# Set xtick rotations\n",
    "plt.xticks(rotation=45)\n",
    "\n",
    "# Set layout\n",
    "plt.tight_layout()\n",
    "\n",
    "# Show plot\n",
    "salary_chart = plt.gcf()\n",
    "plt.show()"
   ]
  },
  {
   "cell_type": "code",
   "execution_count": null,
   "metadata": {},
   "outputs": [],
   "source": [
    "# Save figure\n",
    "salary_chart.savefig(\"Images/Average_Salary_by_Title.png\")"
   ]
  },
  {
   "cell_type": "code",
   "execution_count": null,
   "metadata": {},
   "outputs": [],
   "source": [
    "# Create a new variable to hold merged dataframes\n",
    "salary_freq_df = emp_sal_title_df"
   ]
  },
  {
   "cell_type": "code",
   "execution_count": null,
   "metadata": {},
   "outputs": [],
   "source": [
    "# Find min and max salaries. Save to variable\n",
    "min_sal = salary_freq_df[\"Salary\"].min()\n",
    "max_sal = salary_freq_df[\"Salary\"].max()\n",
    "\n",
    "print(f\"The minimum salary is {min_sal}.\")\n",
    "print(f\"The maximum salary is {max_sal}.\")"
   ]
  },
  {
   "cell_type": "code",
   "execution_count": null,
   "metadata": {},
   "outputs": [],
   "source": [
    "# Create bins to hold salary data\n",
    "# Create size bins\n",
    "size_bins = [40000-1, 50000-1, 60000-1, 70000-1, 80000-1, 90000-1, 100000-1, 110000-1, 120000-1, 130000+1]\n",
    "\n",
    "# Create labels for bins\n",
    "group_names = [\"$40,000-$49,999\", \"$50,000-$59,999\", \"$60,000-$69,999\", \"$70,000-$79,999\",\n",
    "              \"$80,000-$89,999\", \"$90,000-$99,999\", \"$100,000-$109,999\", \n",
    "              \"$110,000-$119,999\", \"$120,000-$130,000\"]"
   ]
  },
  {
   "cell_type": "code",
   "execution_count": null,
   "metadata": {},
   "outputs": [],
   "source": [
    "# Cut bins\n",
    "salary_freq_df[\"Salary Range\"] = pd.cut(salary_freq_df[\"Salary\"], size_bins, labels=group_names)\n",
    "\n",
    "# Show dataframe\n",
    "salary_freq_df.head()"
   ]
  },
  {
   "cell_type": "code",
   "execution_count": null,
   "metadata": {},
   "outputs": [],
   "source": [
    "# Create group based on bins\n",
    "salary_group_df = salary_freq_df.groupby(\"Salary Range\")\n",
    "\n",
    "# Show only Salary Range, based on count\n",
    "salary_group_df = salary_group_df[\"Salary\", \"Salary Range\"].count()\n",
    "salary_group_df"
   ]
  },
  {
   "cell_type": "code",
   "execution_count": null,
   "metadata": {},
   "outputs": [],
   "source": [
    "# Set title\n",
    "title = \"Salary frequency\"\n",
    "\n",
    "# Create chart\n",
    "salary_freq = salary_freq_df[\"Salary\"].plot(kind=\"hist\", title=title, xlim=[40000,130000], ylim=[0, 250000], \n",
    "                                             figsize=(8,4), color=\"tab:blue\")\n",
    "\n",
    "# Set labels\n",
    "salary_freq.set_xlabel(\"Salary Range ($)\")\n",
    "salary_freq.set_ylabel(\"Number of Salaries\")\n",
    "\n",
    "\n",
    "# Set layout\n",
    "plt.tight_layout()\n",
    "\n",
    "# Show plot\n",
    "salary_freq = plt.gcf()\n",
    "plt.show()"
   ]
  },
  {
   "cell_type": "code",
   "execution_count": null,
   "metadata": {},
   "outputs": [],
   "source": [
    "# Save figure\n",
    "salary_freq.savefig(\"Images/Salary_Frequency.png\")"
   ]
  }
 ],
 "metadata": {
  "kernelspec": {
   "display_name": "Python 3.6.10 64-bit ('PythonData': conda)",
   "language": "python",
   "name": "python361064bitpythondataconda6906947807ed40f193f67cf2b39c0194"
  },
  "language_info": {
   "codemirror_mode": {
    "name": "ipython",
    "version": 3
   },
   "file_extension": ".py",
   "mimetype": "text/x-python",
   "name": "python",
   "nbconvert_exporter": "python",
   "pygments_lexer": "ipython3",
   "version": "3.6.10"
  }
 },
 "nbformat": 4,
 "nbformat_minor": 4
}
